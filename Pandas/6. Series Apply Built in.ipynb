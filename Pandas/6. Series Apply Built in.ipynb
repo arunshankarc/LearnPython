{
 "cells": [
  {
   "cell_type": "markdown",
   "id": "27d83807-9b7e-4b96-bb2a-0a765419dae1",
   "metadata": {},
   "source": [
    "# Apply built in Function on series"
   ]
  },
  {
   "cell_type": "code",
   "execution_count": 1,
   "id": "23f0437e-d292-4d9b-a3f7-cfa21dd1392b",
   "metadata": {},
   "outputs": [],
   "source": [
    "import pandas as pd \n",
    "\n",
    "temperature = [30, 31, 32, 33, 34, 32, 30, 31, 29, 33, 34, 32]\n",
    "months = [\"Jan\", \"Feb\", \"Mar\", \"Apr\", \"May\", \"Jun\", \"Jul\", \"Aug\", \"Sep\", \"Oct\", \"Nov\", \"Dec\"]\n",
    "ser = pd.Series(data=temperature, index=months)"
   ]
  },
  {
   "cell_type": "code",
   "execution_count": 2,
   "id": "97e02069-04fb-49b2-96a5-c8f528e52ff3",
   "metadata": {},
   "outputs": [
    {
     "data": {
      "text/plain": [
       "Jan    30\n",
       "Feb    31\n",
       "Mar    32\n",
       "Apr    33\n",
       "May    34\n",
       "Jun    32\n",
       "Jul    30\n",
       "Aug    31\n",
       "Sep    29\n",
       "Oct    33\n",
       "Nov    34\n",
       "Dec    32\n",
       "dtype: int64"
      ]
     },
     "execution_count": 2,
     "metadata": {},
     "output_type": "execute_result"
    }
   ],
   "source": [
    "ser"
   ]
  },
  {
   "cell_type": "code",
   "execution_count": 3,
   "id": "16a17b0a-88ce-4a93-936e-5adedf3a8ffe",
   "metadata": {},
   "outputs": [
    {
     "data": {
      "text/plain": [
       "12"
      ]
     },
     "execution_count": 3,
     "metadata": {},
     "output_type": "execute_result"
    }
   ],
   "source": [
    "len(ser)"
   ]
  },
  {
   "cell_type": "code",
   "execution_count": 4,
   "id": "5f572818-d6c3-4154-bd9b-4fb705af833b",
   "metadata": {},
   "outputs": [
    {
     "data": {
      "text/plain": [
       "pandas.core.series.Series"
      ]
     },
     "execution_count": 4,
     "metadata": {},
     "output_type": "execute_result"
    }
   ],
   "source": [
    "type(ser)"
   ]
  },
  {
   "cell_type": "code",
   "execution_count": 5,
   "id": "e8951797-a169-4bb4-8c44-a99f1d361a48",
   "metadata": {},
   "outputs": [
    {
     "data": {
      "text/plain": [
       "[30, 31, 32, 33, 34, 32, 30, 31, 29, 33, 34, 32]"
      ]
     },
     "execution_count": 5,
     "metadata": {},
     "output_type": "execute_result"
    }
   ],
   "source": [
    "list(ser)"
   ]
  },
  {
   "cell_type": "code",
   "execution_count": 6,
   "id": "95816eaf-d610-4c07-8d8b-85286d62f0b7",
   "metadata": {},
   "outputs": [
    {
     "data": {
      "text/plain": [
       "{'Jan': 30,\n",
       " 'Feb': 31,\n",
       " 'Mar': 32,\n",
       " 'Apr': 33,\n",
       " 'May': 34,\n",
       " 'Jun': 32,\n",
       " 'Jul': 30,\n",
       " 'Aug': 31,\n",
       " 'Sep': 29,\n",
       " 'Oct': 33,\n",
       " 'Nov': 34,\n",
       " 'Dec': 32}"
      ]
     },
     "execution_count": 6,
     "metadata": {},
     "output_type": "execute_result"
    }
   ],
   "source": [
    "dict(ser)"
   ]
  },
  {
   "cell_type": "code",
   "execution_count": 8,
   "id": "55b99ba8-b452-42b7-a9d3-debf0d54e404",
   "metadata": {},
   "outputs": [
    {
     "data": {
      "text/plain": [
       "[29, 30, 30, 31, 31, 32, 32, 32, 33, 33, 34, 34]"
      ]
     },
     "execution_count": 8,
     "metadata": {},
     "output_type": "execute_result"
    }
   ],
   "source": [
    "sorted(ser) # Returns list object"
   ]
  },
  {
   "cell_type": "code",
   "execution_count": 9,
   "id": "3b5d82c8-b43f-4721-b9dc-9f7f622700f1",
   "metadata": {},
   "outputs": [
    {
     "data": {
      "text/plain": [
       "34"
      ]
     },
     "execution_count": 9,
     "metadata": {},
     "output_type": "execute_result"
    }
   ],
   "source": [
    "max(ser)"
   ]
  },
  {
   "cell_type": "code",
   "execution_count": 10,
   "id": "cc99e047-3572-438a-894a-fd84d764b60a",
   "metadata": {},
   "outputs": [
    {
     "data": {
      "text/plain": [
       "29"
      ]
     },
     "execution_count": 10,
     "metadata": {},
     "output_type": "execute_result"
    }
   ],
   "source": [
    "min(ser)"
   ]
  },
  {
   "cell_type": "markdown",
   "id": "29d96fbe-12d2-4ebf-a847-1b55055fa43a",
   "metadata": {},
   "source": [
    "# Extract specifc value from series like list data structure"
   ]
  },
  {
   "cell_type": "code",
   "execution_count": 11,
   "id": "19e83445-d222-420e-9a55-6c6c3bca1ed6",
   "metadata": {},
   "outputs": [
    {
     "data": {
      "text/plain": [
       "Jan    30\n",
       "Feb    31\n",
       "Mar    32\n",
       "Apr    33\n",
       "May    34\n",
       "Jun    32\n",
       "Jul    30\n",
       "Aug    31\n",
       "Sep    29\n",
       "Oct    33\n",
       "Nov    34\n",
       "Dec    32\n",
       "dtype: int64"
      ]
     },
     "execution_count": 11,
     "metadata": {},
     "output_type": "execute_result"
    }
   ],
   "source": [
    "ser"
   ]
  },
  {
   "cell_type": "code",
   "execution_count": 13,
   "id": "fb3ba995-2e2f-418c-81c7-5ae070243ac0",
   "metadata": {},
   "outputs": [
    {
     "data": {
      "text/plain": [
       "34"
      ]
     },
     "execution_count": 13,
     "metadata": {},
     "output_type": "execute_result"
    }
   ],
   "source": [
    "ser[10] # Series slicing"
   ]
  },
  {
   "cell_type": "code",
   "execution_count": 18,
   "id": "f1715cbe-6b6d-429f-9b6e-2e2fbc9cbcf5",
   "metadata": {},
   "outputs": [
    {
     "data": {
      "text/plain": [
       "Jan    30\n",
       "Feb    31\n",
       "Mar    32\n",
       "Apr    33\n",
       "May    34\n",
       "Jun    32\n",
       "Jul    30\n",
       "dtype: int64"
      ]
     },
     "execution_count": 18,
     "metadata": {},
     "output_type": "execute_result"
    }
   ],
   "source": [
    "ser[0:7] # Series slicing"
   ]
  },
  {
   "cell_type": "code",
   "execution_count": 19,
   "id": "6eb66f95-ce96-4082-88fd-81c6df6f9dbd",
   "metadata": {},
   "outputs": [
    {
     "data": {
      "text/plain": [
       "Jan    30\n",
       "Feb    31\n",
       "Mar    32\n",
       "Apr    33\n",
       "May    34\n",
       "Jun    32\n",
       "Jul    30\n",
       "Aug    31\n",
       "dtype: int64"
      ]
     },
     "execution_count": 19,
     "metadata": {},
     "output_type": "execute_result"
    }
   ],
   "source": [
    "ser[0:8] # Series slicing"
   ]
  },
  {
   "cell_type": "code",
   "execution_count": 22,
   "id": "6d8ec5c2-0a19-4dbf-ba34-583e86998dc2",
   "metadata": {},
   "outputs": [
    {
     "data": {
      "text/plain": [
       "Apr    33\n",
       "Jun    32\n",
       "Aug    31\n",
       "dtype: int64"
      ]
     },
     "execution_count": 22,
     "metadata": {},
     "output_type": "execute_result"
    }
   ],
   "source": [
    "ser[[3,5,7]] # Get specific index "
   ]
  },
  {
   "cell_type": "code",
   "execution_count": 23,
   "id": "68b0a50b-a3dd-4a48-95c9-e99467e720fe",
   "metadata": {},
   "outputs": [
    {
     "data": {
      "text/plain": [
       "32"
      ]
     },
     "execution_count": 23,
     "metadata": {},
     "output_type": "execute_result"
    }
   ],
   "source": [
    "ser[-1]"
   ]
  },
  {
   "cell_type": "code",
   "execution_count": 29,
   "id": "12587d23-082c-4d44-b542-b018bc722dfe",
   "metadata": {},
   "outputs": [
    {
     "data": {
      "text/plain": [
       "Series([], dtype: int64)"
      ]
     },
     "execution_count": 29,
     "metadata": {},
     "output_type": "execute_result"
    }
   ],
   "source": [
    "ser[-5:-1]"
   ]
  },
  {
   "cell_type": "code",
   "execution_count": 30,
   "id": "1e125d6a-a5b6-46d0-a1c1-9a63bc0414e8",
   "metadata": {},
   "outputs": [
    {
     "data": {
      "text/plain": [
       "31"
      ]
     },
     "execution_count": 30,
     "metadata": {},
     "output_type": "execute_result"
    }
   ],
   "source": [
    "ser['Aug']"
   ]
  },
  {
   "cell_type": "code",
   "execution_count": 31,
   "id": "01a5a165-71a7-44ca-bd71-8cb4945f05ae",
   "metadata": {},
   "outputs": [
    {
     "data": {
      "text/plain": [
       "Aug    31\n",
       "Sep    29\n",
       "dtype: int64"
      ]
     },
     "execution_count": 31,
     "metadata": {},
     "output_type": "execute_result"
    }
   ],
   "source": [
    "ser[['Aug', 'Sep']]"
   ]
  },
  {
   "cell_type": "code",
   "execution_count": 40,
   "id": "cd8b48a1-8ff2-4f67-b3e9-4a3b762b61b0",
   "metadata": {},
   "outputs": [
    {
     "data": {
      "text/plain": [
       "1"
      ]
     },
     "execution_count": 40,
     "metadata": {},
     "output_type": "execute_result"
    }
   ],
   "source": [
    "s = pd.Series([1,2,3,4,5])\n",
    "sorted(s)[0]"
   ]
  },
  {
   "cell_type": "markdown",
   "id": "43b9a7c5-c3fa-45a3-8f21-2df87e17b615",
   "metadata": {},
   "source": [
    "# value_count method"
   ]
  },
  {
   "cell_type": "code",
   "execution_count": 41,
   "id": "cd8e167d-6a35-470a-843f-04f3ad523ff1",
   "metadata": {},
   "outputs": [],
   "source": [
    "s1 = pd.Series(['Male', 'Female','Male','Female', 'Female', 'Female','Male','Female','Male','Female','Male','Female', 'Female', 'Female', 'Female','Male','Male','Male','Female','Male','Male','Female'])"
   ]
  },
  {
   "cell_type": "code",
   "execution_count": 42,
   "id": "00be660d-283b-44d6-823b-222592837098",
   "metadata": {},
   "outputs": [
    {
     "data": {
      "text/plain": [
       "2"
      ]
     },
     "execution_count": 42,
     "metadata": {},
     "output_type": "execute_result"
    }
   ],
   "source": [
    "s1.nunique() # Unique values"
   ]
  },
  {
   "cell_type": "code",
   "execution_count": 43,
   "id": "3b9dbc57-d40a-4c25-a625-e00e509dcab5",
   "metadata": {},
   "outputs": [
    {
     "data": {
      "text/plain": [
       "Female    12\n",
       "Male      10\n",
       "dtype: int64"
      ]
     },
     "execution_count": 43,
     "metadata": {},
     "output_type": "execute_result"
    }
   ],
   "source": [
    "s1.value_counts() # Value counts"
   ]
  },
  {
   "cell_type": "markdown",
   "id": "84e011c5-f128-414f-bf8d-c019de6198fd",
   "metadata": {},
   "source": [
    "# .apply() and .map() method"
   ]
  },
  {
   "cell_type": "code",
   "execution_count": 44,
   "id": "72087210-ec95-4ed8-ac9e-6a1f458761f7",
   "metadata": {},
   "outputs": [],
   "source": [
    "import pandas as pd \n",
    "\n",
    "temperature = [30, 31, 32, 33, 34, 32, 30, 31, 29, 33, 34, 32]\n",
    "months = [\"|Jan\", \"Feb\", \"Mar\", \"Apr\", \"May\", \"Jun\", \"Jul\", \"Aug\", \"Sep\", \"Oct\", \"Nov\", \"Dec\"]\n",
    "s1 = pd.Series(temperature, months)"
   ]
  },
  {
   "cell_type": "code",
   "execution_count": 45,
   "id": "a1c39f99-587f-43a9-8811-727c70a2f65c",
   "metadata": {},
   "outputs": [
    {
     "data": {
      "text/plain": [
       "|Jan    30\n",
       "Feb     31\n",
       "Mar     32\n",
       "Apr     33\n",
       "May     34\n",
       "Jun     32\n",
       "Jul     30\n",
       "Aug     31\n",
       "Sep     29\n",
       "Oct     33\n",
       "Nov     34\n",
       "Dec     32\n",
       "dtype: int64"
      ]
     },
     "execution_count": 45,
     "metadata": {},
     "output_type": "execute_result"
    }
   ],
   "source": [
    "s1"
   ]
  },
  {
   "cell_type": "code",
   "execution_count": 46,
   "id": "1c428cf1-d29b-4b2f-82cc-2d9b1abba476",
   "metadata": {},
   "outputs": [],
   "source": [
    "def convert_temp_fahrenheit(celsius):\n",
    "    return celsius * 1.8 + 32"
   ]
  },
  {
   "cell_type": "code",
   "execution_count": 49,
   "id": "4fad7569-0ae0-44fd-9601-2b87d78db0f2",
   "metadata": {},
   "outputs": [
    {
     "ename": "TypeError",
     "evalue": "convert_temp_fahrenheit() got an unexpected keyword argument 'inplace'",
     "output_type": "error",
     "traceback": [
      "\u001b[1;31m---------------------------------------------------------------------------\u001b[0m",
      "\u001b[1;31mTypeError\u001b[0m                                 Traceback (most recent call last)",
      "\u001b[1;32m<ipython-input-49-e057c58222e2>\u001b[0m in \u001b[0;36m<module>\u001b[1;34m\u001b[0m\n\u001b[1;32m----> 1\u001b[1;33m \u001b[0ms1\u001b[0m\u001b[1;33m.\u001b[0m\u001b[0mapply\u001b[0m\u001b[1;33m(\u001b[0m\u001b[0mconvert_temp_fahrenheit\u001b[0m\u001b[1;33m,\u001b[0m \u001b[0minplace\u001b[0m\u001b[1;33m=\u001b[0m\u001b[1;32mTrue\u001b[0m\u001b[1;33m)\u001b[0m\u001b[1;33m\u001b[0m\u001b[1;33m\u001b[0m\u001b[0m\n\u001b[0m",
      "\u001b[1;32m~\\Anaconda3\\lib\\site-packages\\pandas\\core\\series.py\u001b[0m in \u001b[0;36mapply\u001b[1;34m(self, func, convert_dtype, args, **kwds)\u001b[0m\n\u001b[0;32m   4136\u001b[0m             \u001b[1;32melse\u001b[0m\u001b[1;33m:\u001b[0m\u001b[1;33m\u001b[0m\u001b[1;33m\u001b[0m\u001b[0m\n\u001b[0;32m   4137\u001b[0m                 \u001b[0mvalues\u001b[0m \u001b[1;33m=\u001b[0m \u001b[0mself\u001b[0m\u001b[1;33m.\u001b[0m\u001b[0mastype\u001b[0m\u001b[1;33m(\u001b[0m\u001b[0mobject\u001b[0m\u001b[1;33m)\u001b[0m\u001b[1;33m.\u001b[0m\u001b[0m_values\u001b[0m\u001b[1;33m\u001b[0m\u001b[1;33m\u001b[0m\u001b[0m\n\u001b[1;32m-> 4138\u001b[1;33m                 \u001b[0mmapped\u001b[0m \u001b[1;33m=\u001b[0m \u001b[0mlib\u001b[0m\u001b[1;33m.\u001b[0m\u001b[0mmap_infer\u001b[0m\u001b[1;33m(\u001b[0m\u001b[0mvalues\u001b[0m\u001b[1;33m,\u001b[0m \u001b[0mf\u001b[0m\u001b[1;33m,\u001b[0m \u001b[0mconvert\u001b[0m\u001b[1;33m=\u001b[0m\u001b[0mconvert_dtype\u001b[0m\u001b[1;33m)\u001b[0m\u001b[1;33m\u001b[0m\u001b[1;33m\u001b[0m\u001b[0m\n\u001b[0m\u001b[0;32m   4139\u001b[0m \u001b[1;33m\u001b[0m\u001b[0m\n\u001b[0;32m   4140\u001b[0m         \u001b[1;32mif\u001b[0m \u001b[0mlen\u001b[0m\u001b[1;33m(\u001b[0m\u001b[0mmapped\u001b[0m\u001b[1;33m)\u001b[0m \u001b[1;32mand\u001b[0m \u001b[0misinstance\u001b[0m\u001b[1;33m(\u001b[0m\u001b[0mmapped\u001b[0m\u001b[1;33m[\u001b[0m\u001b[1;36m0\u001b[0m\u001b[1;33m]\u001b[0m\u001b[1;33m,\u001b[0m \u001b[0mSeries\u001b[0m\u001b[1;33m)\u001b[0m\u001b[1;33m:\u001b[0m\u001b[1;33m\u001b[0m\u001b[1;33m\u001b[0m\u001b[0m\n",
      "\u001b[1;32mpandas\\_libs\\lib.pyx\u001b[0m in \u001b[0;36mpandas._libs.lib.map_infer\u001b[1;34m()\u001b[0m\n",
      "\u001b[1;32m~\\Anaconda3\\lib\\site-packages\\pandas\\core\\series.py\u001b[0m in \u001b[0;36mf\u001b[1;34m(x)\u001b[0m\n\u001b[0;32m   4121\u001b[0m \u001b[1;33m\u001b[0m\u001b[0m\n\u001b[0;32m   4122\u001b[0m             \u001b[1;32mdef\u001b[0m \u001b[0mf\u001b[0m\u001b[1;33m(\u001b[0m\u001b[0mx\u001b[0m\u001b[1;33m)\u001b[0m\u001b[1;33m:\u001b[0m\u001b[1;33m\u001b[0m\u001b[1;33m\u001b[0m\u001b[0m\n\u001b[1;32m-> 4123\u001b[1;33m                 \u001b[1;32mreturn\u001b[0m \u001b[0mfunc\u001b[0m\u001b[1;33m(\u001b[0m\u001b[0mx\u001b[0m\u001b[1;33m,\u001b[0m \u001b[1;33m*\u001b[0m\u001b[0margs\u001b[0m\u001b[1;33m,\u001b[0m \u001b[1;33m**\u001b[0m\u001b[0mkwds\u001b[0m\u001b[1;33m)\u001b[0m\u001b[1;33m\u001b[0m\u001b[1;33m\u001b[0m\u001b[0m\n\u001b[0m\u001b[0;32m   4124\u001b[0m \u001b[1;33m\u001b[0m\u001b[0m\n\u001b[0;32m   4125\u001b[0m         \u001b[1;32melse\u001b[0m\u001b[1;33m:\u001b[0m\u001b[1;33m\u001b[0m\u001b[1;33m\u001b[0m\u001b[0m\n",
      "\u001b[1;31mTypeError\u001b[0m: convert_temp_fahrenheit() got an unexpected keyword argument 'inplace'"
     ]
    }
   ],
   "source": [
    "s1.apply(convert_temp_fahrenheit)"
   ]
  },
  {
   "cell_type": "code",
   "execution_count": 48,
   "id": "22ef629e-4e6e-4692-8e2c-b3c6871e6317",
   "metadata": {},
   "outputs": [
    {
     "data": {
      "text/plain": [
       "|Jan    30\n",
       "Feb     31\n",
       "Mar     32\n",
       "Apr     33\n",
       "May     34\n",
       "Jun     32\n",
       "Jul     30\n",
       "Aug     31\n",
       "Sep     29\n",
       "Oct     33\n",
       "Nov     34\n",
       "Dec     32\n",
       "dtype: int64"
      ]
     },
     "execution_count": 48,
     "metadata": {},
     "output_type": "execute_result"
    }
   ],
   "source": [
    "s1"
   ]
  },
  {
   "cell_type": "code",
   "execution_count": 50,
   "id": "93e20206-4832-4886-acd8-ae5cdac1b503",
   "metadata": {},
   "outputs": [],
   "source": [
    "mapobj = {30 : 300, 31 : 310, 32 : 40, 34 : 100}"
   ]
  },
  {
   "cell_type": "code",
   "execution_count": 51,
   "id": "0f0c3a44-869a-4bae-8b5a-230cf4123fce",
   "metadata": {},
   "outputs": [
    {
     "data": {
      "text/plain": [
       "|Jan    300.0\n",
       "Feb     310.0\n",
       "Mar      40.0\n",
       "Apr       NaN\n",
       "May     100.0\n",
       "Jun      40.0\n",
       "Jul     300.0\n",
       "Aug     310.0\n",
       "Sep       NaN\n",
       "Oct       NaN\n",
       "Nov     100.0\n",
       "Dec      40.0\n",
       "dtype: float64"
      ]
     },
     "execution_count": 51,
     "metadata": {},
     "output_type": "execute_result"
    }
   ],
   "source": [
    "s1.map(mapobj)"
   ]
  },
  {
   "cell_type": "code",
   "execution_count": null,
   "id": "54e6f251-6cfc-4081-8ff9-bacece97e9f5",
   "metadata": {},
   "outputs": [],
   "source": []
  }
 ],
 "metadata": {
  "kernelspec": {
   "display_name": "Python 3",
   "language": "python",
   "name": "python3"
  },
  "language_info": {
   "codemirror_mode": {
    "name": "ipython",
    "version": 3
   },
   "file_extension": ".py",
   "mimetype": "text/x-python",
   "name": "python",
   "nbconvert_exporter": "python",
   "pygments_lexer": "ipython3",
   "version": "3.8.8"
  }
 },
 "nbformat": 4,
 "nbformat_minor": 5
}
