{
 "cells": [
  {
   "cell_type": "code",
   "execution_count": 1,
   "id": "29a360bf-9e8e-44de-8aca-21125125d073",
   "metadata": {},
   "outputs": [
    {
     "data": {
      "text/plain": [
       "7"
      ]
     },
     "execution_count": 1,
     "metadata": {},
     "output_type": "execute_result"
    }
   ],
   "source": [
    "3 + 4"
   ]
  },
  {
   "cell_type": "code",
   "execution_count": 3,
   "id": "a3249e01-6662-4a7a-83a9-20eafd699e00",
   "metadata": {},
   "outputs": [
    {
     "name": "stdout",
     "output_type": "stream",
     "text": [
      "Hello\n"
     ]
    }
   ],
   "source": [
    "print(\"Hello\")"
   ]
  },
  {
   "cell_type": "code",
   "execution_count": null,
   "id": "b7e00084-6ff2-4730-a89c-7328d494b0fb",
   "metadata": {},
   "outputs": [],
   "source": [
    "# Python Comment"
   ]
  },
  {
   "cell_type": "markdown",
   "id": "7409e3d6-623f-48f2-a6eb-d7de8357b584",
   "metadata": {},
   "source": [
    "# This is my notebook comment"
   ]
  },
  {
   "cell_type": "markdown",
   "id": "e4656eb5-b49f-49ad-9eb2-0f8bbe8672d5",
   "metadata": {},
   "source": [
    "## Two comments"
   ]
  },
  {
   "cell_type": "code",
   "execution_count": null,
   "id": "478bd8ff-eb26-4849-a04f-47522b67d2b0",
   "metadata": {},
   "outputs": [],
   "source": [
    "import pandas\n",
    "import matplotlib.pyplot as plt"
   ]
  }
 ],
 "metadata": {
  "kernelspec": {
   "display_name": "Python 3",
   "language": "python",
   "name": "python3"
  },
  "language_info": {
   "codemirror_mode": {
    "name": "ipython",
    "version": 3
   },
   "file_extension": ".py",
   "mimetype": "text/x-python",
   "name": "python",
   "nbconvert_exporter": "python",
   "pygments_lexer": "ipython3",
   "version": "3.8.8"
  },
  "toc-autonumbering": true
 },
 "nbformat": 4,
 "nbformat_minor": 5
}
