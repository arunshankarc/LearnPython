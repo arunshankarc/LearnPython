{
 "cells": [
  {
   "cell_type": "markdown",
   "id": "d139d923-3464-4666-add8-2aaab05b87be",
   "metadata": {},
   "source": [
    "# sort_value, sort_index,inplace"
   ]
  },
  {
   "cell_type": "code",
   "execution_count": 9,
   "id": "30b74ad9-c3ac-408c-819c-4dff46c36b87",
   "metadata": {},
   "outputs": [],
   "source": [
    "import pandas as pd \n",
    "\n",
    "temperature = [30, 31, 32, 33, 34, 32, 30, 31, 29, 33, 34, 32]\n",
    "months = [\"Jan\", \"Feb\", \"Mar\", \"Apr\", \"May\", \"Jun\", \"Jul\", \"Aug\", \"Sep\", \"Oct\", \"Nov\", \"Dec\"]"
   ]
  },
  {
   "cell_type": "code",
   "execution_count": 14,
   "id": "b72f4437-5c8e-4999-9a52-10b74570a5a2",
   "metadata": {},
   "outputs": [],
   "source": [
    "ser = pd.Series(data=temperature, index=months)"
   ]
  },
  {
   "cell_type": "code",
   "execution_count": 3,
   "id": "8bf8dbf9-eaae-4d49-b3ef-ee60f6a46bb4",
   "metadata": {},
   "outputs": [
    {
     "data": {
      "text/plain": [
       "Jan    30\n",
       "Feb    31\n",
       "Mar    32\n",
       "Apr    33\n",
       "May    34\n",
       "Jun    32\n",
       "Jul    30\n",
       "Aug    31\n",
       "Sep    29\n",
       "Oct    33\n",
       "Nov    34\n",
       "Dec    32\n",
       "dtype: int64"
      ]
     },
     "execution_count": 3,
     "metadata": {},
     "output_type": "execute_result"
    }
   ],
   "source": [
    "ser"
   ]
  },
  {
   "cell_type": "code",
   "execution_count": 4,
   "id": "7a634165-39a6-42e8-b2fa-1ec0bdca2d7e",
   "metadata": {},
   "outputs": [
    {
     "data": {
      "text/plain": [
       "Sep    29\n",
       "Jan    30\n",
       "Jul    30\n",
       "Feb    31\n",
       "Aug    31\n",
       "Mar    32\n",
       "Jun    32\n",
       "Dec    32\n",
       "Apr    33\n",
       "Oct    33\n",
       "May    34\n",
       "Nov    34\n",
       "dtype: int64"
      ]
     },
     "execution_count": 4,
     "metadata": {},
     "output_type": "execute_result"
    }
   ],
   "source": [
    "ser.sort_values() # sorts in ascending"
   ]
  },
  {
   "cell_type": "code",
   "execution_count": 7,
   "id": "4bc781de-451f-483d-8c30-7d5d307daf01",
   "metadata": {},
   "outputs": [],
   "source": [
    "ser.sort_values(ascending=False)"
   ]
  },
  {
   "cell_type": "code",
   "execution_count": 8,
   "id": "1befc5af-9368-4aa9-b5ae-20f86c5d9f87",
   "metadata": {},
   "outputs": [
    {
     "data": {
      "text/plain": [
       "May    34\n",
       "Nov    34\n",
       "Apr    33\n",
       "Oct    33\n",
       "Mar    32\n",
       "Jun    32\n",
       "Dec    32\n",
       "Feb    31\n",
       "Aug    31\n",
       "Jan    30\n",
       "Jul    30\n",
       "Sep    29\n",
       "dtype: int64"
      ]
     },
     "execution_count": 8,
     "metadata": {},
     "output_type": "execute_result"
    }
   ],
   "source": [
    "ser"
   ]
  },
  {
   "cell_type": "code",
   "execution_count": 11,
   "id": "e7c7b2c3-4464-479e-ad9c-e161149abae2",
   "metadata": {},
   "outputs": [
    {
     "data": {
      "text/plain": [
       "Jan    30\n",
       "Feb    31\n",
       "Mar    32\n",
       "Apr    33\n",
       "May    34\n",
       "Jun    32\n",
       "Jul    30\n",
       "Aug    31\n",
       "Sep    29\n",
       "Oct    33\n",
       "Nov    34\n",
       "Dec    32\n",
       "dtype: int64"
      ]
     },
     "execution_count": 11,
     "metadata": {},
     "output_type": "execute_result"
    }
   ],
   "source": [
    "ser"
   ]
  },
  {
   "cell_type": "code",
   "execution_count": 12,
   "id": "1f7cd02e-81fe-48a2-9dac-4920f5d7ab5c",
   "metadata": {},
   "outputs": [],
   "source": [
    "ser.sort_values(ascending=False, inplace=True) # Change to existing series"
   ]
  },
  {
   "cell_type": "code",
   "execution_count": 15,
   "id": "e3ff71cf-2f5d-4101-86f9-c3168c799d2e",
   "metadata": {},
   "outputs": [
    {
     "data": {
      "text/plain": [
       "Jan    30\n",
       "Feb    31\n",
       "Mar    32\n",
       "Apr    33\n",
       "May    34\n",
       "Jun    32\n",
       "Jul    30\n",
       "Aug    31\n",
       "Sep    29\n",
       "Oct    33\n",
       "Nov    34\n",
       "Dec    32\n",
       "dtype: int64"
      ]
     },
     "execution_count": 15,
     "metadata": {},
     "output_type": "execute_result"
    }
   ],
   "source": [
    "ser"
   ]
  },
  {
   "cell_type": "code",
   "execution_count": 16,
   "id": "6d79738c-ea62-4ba0-9d7c-e2333c11e154",
   "metadata": {},
   "outputs": [
    {
     "data": {
      "text/plain": [
       "Apr    33\n",
       "Aug    31\n",
       "Dec    32\n",
       "Feb    31\n",
       "Jan    30\n",
       "Jul    30\n",
       "Jun    32\n",
       "Mar    32\n",
       "May    34\n",
       "Nov    34\n",
       "Oct    33\n",
       "Sep    29\n",
       "dtype: int64"
      ]
     },
     "execution_count": 16,
     "metadata": {},
     "output_type": "execute_result"
    }
   ],
   "source": [
    "ser.sort_index() # Sort based on index"
   ]
  },
  {
   "cell_type": "code",
   "execution_count": 17,
   "id": "920af3cd-3091-48c4-87d2-01e3ca67bbfa",
   "metadata": {},
   "outputs": [
    {
     "data": {
      "text/plain": [
       "Sep    29\n",
       "Oct    33\n",
       "Nov    34\n",
       "May    34\n",
       "Mar    32\n",
       "Jun    32\n",
       "Jul    30\n",
       "Jan    30\n",
       "Feb    31\n",
       "Dec    32\n",
       "Aug    31\n",
       "Apr    33\n",
       "dtype: int64"
      ]
     },
     "execution_count": 17,
     "metadata": {},
     "output_type": "execute_result"
    }
   ],
   "source": [
    "ser.sort_index(ascending=False) # Sort based on index"
   ]
  },
  {
   "cell_type": "code",
   "execution_count": 18,
   "id": "55b841e0-d6e6-4ff6-a213-98fc3880eea1",
   "metadata": {},
   "outputs": [
    {
     "data": {
      "text/plain": [
       "Jan    30\n",
       "Feb    31\n",
       "Mar    32\n",
       "Apr    33\n",
       "May    34\n",
       "Jun    32\n",
       "Jul    30\n",
       "Aug    31\n",
       "Sep    29\n",
       "Oct    33\n",
       "Nov    34\n",
       "Dec    32\n",
       "dtype: int64"
      ]
     },
     "execution_count": 18,
     "metadata": {},
     "output_type": "execute_result"
    }
   ],
   "source": [
    "ser.sort_index(ascending=False, inplace=True) # Sort based on index"
   ]
  },
  {
   "cell_type": "code",
   "execution_count": null,
   "id": "2dbdfdb6-2047-48f3-8727-637223672bb4",
   "metadata": {},
   "outputs": [],
   "source": []
  }
 ],
 "metadata": {
  "kernelspec": {
   "display_name": "Python 3",
   "language": "python",
   "name": "python3"
  },
  "language_info": {
   "codemirror_mode": {
    "name": "ipython",
    "version": 3
   },
   "file_extension": ".py",
   "mimetype": "text/x-python",
   "name": "python",
   "nbconvert_exporter": "python",
   "pygments_lexer": "ipython3",
   "version": "3.8.8"
  }
 },
 "nbformat": 4,
 "nbformat_minor": 5
}
