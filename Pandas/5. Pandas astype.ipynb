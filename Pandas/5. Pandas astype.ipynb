{
 "cells": [
  {
   "cell_type": "markdown",
   "id": "2f537fda-c1d1-42a7-9aee-620241374a74",
   "metadata": {},
   "source": [
    "# Learn astype"
   ]
  },
  {
   "cell_type": "code",
   "execution_count": 1,
   "id": "9c1f1cb4-6de0-4cae-ab75-8f0b8042b60a",
   "metadata": {},
   "outputs": [],
   "source": [
    "import pandas as pd\n",
    "names = [\"age\",\"workclass\",\"fnlwgt\",\"education\",\"edu-num\",\"marital-status\",\"occupation\",\"relationship\",\"race\",\"sex\",\"cap-gain\",\"cap-loss\",\"hour/week\",\"country\",\"salary\"]\n",
    "df = pd.read_csv('C:/Personel/LearnPython/code/adult.data.csv', header=None, names=names)"
   ]
  },
  {
   "cell_type": "code",
   "execution_count": 4,
   "id": "c454e358-a60c-4e47-bdd7-2a157f177ddd",
   "metadata": {},
   "outputs": [],
   "source": [
    "# This will set to category instead of object, so decreases space\n",
    "# This will clearly reduce space from 3.7 mb to 3.3 mb so easily\n",
    "# sex only has 'Male' or 'Female'\n",
    "# marital-status only has 7 possibilities\n",
    "df['sex'] = df['sex'].astype('category')"
   ]
  },
  {
   "cell_type": "code",
   "execution_count": 5,
   "id": "117bf0df-5225-428d-8d64-9ca7a97295aa",
   "metadata": {},
   "outputs": [
    {
     "name": "stdout",
     "output_type": "stream",
     "text": [
      "<class 'pandas.core.frame.DataFrame'>\n",
      "RangeIndex: 32561 entries, 0 to 32560\n",
      "Data columns (total 15 columns):\n",
      " #   Column          Non-Null Count  Dtype   \n",
      "---  ------          --------------  -----   \n",
      " 0   age             32561 non-null  int64   \n",
      " 1   workclass       32561 non-null  object  \n",
      " 2   fnlwgt          32561 non-null  int64   \n",
      " 3   education       32561 non-null  object  \n",
      " 4   edu-num         32561 non-null  int64   \n",
      " 5   marital-status  32561 non-null  object  \n",
      " 6   occupation      32561 non-null  object  \n",
      " 7   relationship    32561 non-null  object  \n",
      " 8   race            32561 non-null  object  \n",
      " 9   sex             32561 non-null  category\n",
      " 10  cap-gain        32561 non-null  int64   \n",
      " 11  cap-loss        32561 non-null  int64   \n",
      " 12  hour/week       32561 non-null  int64   \n",
      " 13  country         32561 non-null  object  \n",
      " 14  salary          32561 non-null  object  \n",
      "dtypes: category(1), int64(6), object(8)\n",
      "memory usage: 3.5+ MB\n"
     ]
    }
   ],
   "source": [
    "df.info()"
   ]
  },
  {
   "cell_type": "code",
   "execution_count": 8,
   "id": "e70784d0-f14f-4b39-98c0-344399abaa21",
   "metadata": {},
   "outputs": [
    {
     "data": {
      "text/plain": [
       "array([' Never-married', ' Married-civ-spouse', ' Divorced',\n",
       "       ' Married-spouse-absent', ' Separated', ' Married-AF-spouse',\n",
       "       ' Widowed'], dtype=object)"
      ]
     },
     "execution_count": 8,
     "metadata": {},
     "output_type": "execute_result"
    }
   ],
   "source": [
    "df['marital-status'].unique()"
   ]
  },
  {
   "cell_type": "code",
   "execution_count": 10,
   "id": "65415d8a-d3cf-4e1b-a8c2-bc9d31ab2394",
   "metadata": {},
   "outputs": [
    {
     "data": {
      "text/plain": [
       "7"
      ]
     },
     "execution_count": 10,
     "metadata": {},
     "output_type": "execute_result"
    }
   ],
   "source": [
    "df['marital-status'].nunique()"
   ]
  },
  {
   "cell_type": "code",
   "execution_count": 11,
   "id": "448ce2ab-78b6-41c7-9555-5c62f7491407",
   "metadata": {},
   "outputs": [],
   "source": [
    "df['marital-status'] = df['marital-status'].astype('category')"
   ]
  },
  {
   "cell_type": "code",
   "execution_count": 12,
   "id": "71a8e08f-3737-4004-bf26-2db25ba252c4",
   "metadata": {},
   "outputs": [
    {
     "name": "stdout",
     "output_type": "stream",
     "text": [
      "<class 'pandas.core.frame.DataFrame'>\n",
      "RangeIndex: 32561 entries, 0 to 32560\n",
      "Data columns (total 15 columns):\n",
      " #   Column          Non-Null Count  Dtype   \n",
      "---  ------          --------------  -----   \n",
      " 0   age             32561 non-null  int64   \n",
      " 1   workclass       32561 non-null  object  \n",
      " 2   fnlwgt          32561 non-null  int64   \n",
      " 3   education       32561 non-null  object  \n",
      " 4   edu-num         32561 non-null  int64   \n",
      " 5   marital-status  32561 non-null  category\n",
      " 6   occupation      32561 non-null  object  \n",
      " 7   relationship    32561 non-null  object  \n",
      " 8   race            32561 non-null  object  \n",
      " 9   sex             32561 non-null  category\n",
      " 10  cap-gain        32561 non-null  int64   \n",
      " 11  cap-loss        32561 non-null  int64   \n",
      " 12  hour/week       32561 non-null  int64   \n",
      " 13  country         32561 non-null  object  \n",
      " 14  salary          32561 non-null  object  \n",
      "dtypes: category(2), int64(6), object(7)\n",
      "memory usage: 3.3+ MB\n"
     ]
    }
   ],
   "source": [
    "df.info()"
   ]
  },
  {
   "cell_type": "code",
   "execution_count": 14,
   "id": "356bf2f2-6414-42f9-91cb-1e1cc2255d3f",
   "metadata": {},
   "outputs": [
    {
     "data": {
      "text/plain": [
       "5"
      ]
     },
     "execution_count": 14,
     "metadata": {},
     "output_type": "execute_result"
    }
   ],
   "source": [
    "df['race'].nunique()"
   ]
  },
  {
   "cell_type": "code",
   "execution_count": 15,
   "id": "f66aabbc-fdaa-4454-a81a-3e78d732725b",
   "metadata": {},
   "outputs": [
    {
     "name": "stdout",
     "output_type": "stream",
     "text": [
      "<class 'pandas.core.frame.DataFrame'>\n",
      "RangeIndex: 32561 entries, 0 to 32560\n",
      "Data columns (total 15 columns):\n",
      " #   Column          Non-Null Count  Dtype   \n",
      "---  ------          --------------  -----   \n",
      " 0   age             32561 non-null  int64   \n",
      " 1   workclass       32561 non-null  object  \n",
      " 2   fnlwgt          32561 non-null  int64   \n",
      " 3   education       32561 non-null  object  \n",
      " 4   edu-num         32561 non-null  int64   \n",
      " 5   marital-status  32561 non-null  category\n",
      " 6   occupation      32561 non-null  object  \n",
      " 7   relationship    32561 non-null  object  \n",
      " 8   race            32561 non-null  category\n",
      " 9   sex             32561 non-null  category\n",
      " 10  cap-gain        32561 non-null  int64   \n",
      " 11  cap-loss        32561 non-null  int64   \n",
      " 12  hour/week       32561 non-null  int64   \n",
      " 13  country         32561 non-null  object  \n",
      " 14  salary          32561 non-null  object  \n",
      "dtypes: category(3), int64(6), object(6)\n",
      "memory usage: 3.1+ MB\n"
     ]
    }
   ],
   "source": [
    "df['race'] = df['race'].astype('category')\n",
    "df.info()"
   ]
  }
 ],
 "metadata": {
  "kernelspec": {
   "display_name": "Python 3",
   "language": "python",
   "name": "python3"
  },
  "language_info": {
   "codemirror_mode": {
    "name": "ipython",
    "version": 3
   },
   "file_extension": ".py",
   "mimetype": "text/x-python",
   "name": "python",
   "nbconvert_exporter": "python",
   "pygments_lexer": "ipython3",
   "version": "3.8.8"
  }
 },
 "nbformat": 4,
 "nbformat_minor": 5
}
