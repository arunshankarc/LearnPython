{
 "cells": [
  {
   "cell_type": "markdown",
   "id": "b168d536-b1af-4f17-a5d9-62d24ce5dea8",
   "metadata": {},
   "source": [
    "# *Series attributes and methods*"
   ]
  },
  {
   "cell_type": "code",
   "execution_count": 2,
   "id": "fe420ef1-2afe-48ce-ad71-f61d4b10b3e2",
   "metadata": {},
   "outputs": [],
   "source": [
    "import pandas as pd\n",
    "# Read csv file with squeeze and usecols to get specific col\n",
    "ser = pd.read_csv('C:/Personel/LearnPython/code/Stock.csv', squeeze=True, usecols=['Open'])"
   ]
  },
  {
   "cell_type": "code",
   "execution_count": 3,
   "id": "1c409666-b608-4176-a55c-085a1247eff3",
   "metadata": {},
   "outputs": [
    {
     "data": {
      "text/plain": [
       "0     16.770000\n",
       "1     17.100000\n",
       "2     17.059999\n",
       "3     16.900000\n",
       "4     16.969999\n",
       "5     16.240000\n",
       "6     16.389999\n",
       "7     16.549999\n",
       "8     15.990000\n",
       "9     15.770000\n",
       "10    16.389999\n",
       "11    16.330000\n",
       "12    16.340000\n",
       "13    16.240000\n",
       "14    16.469999\n",
       "15    16.790001\n",
       "16    17.100000\n",
       "17    17.299999\n",
       "18    16.299999\n",
       "19    16.459999\n",
       "Name: Open, dtype: float64"
      ]
     },
     "execution_count": 3,
     "metadata": {},
     "output_type": "execute_result"
    }
   ],
   "source": [
    "ser"
   ]
  },
  {
   "cell_type": "markdown",
   "id": "ab1bee10-2f19-4603-9c83-a91dec05b993",
   "metadata": {},
   "source": [
    "# Below are some of the attributes assigned to series object"
   ]
  },
  {
   "cell_type": "code",
   "execution_count": 5,
   "id": "a6a43691-eb6c-40fd-a1b1-f6082911fd2e",
   "metadata": {},
   "outputs": [
    {
     "data": {
      "text/plain": [
       "RangeIndex(start=0, stop=20, step=1)"
      ]
     },
     "execution_count": 5,
     "metadata": {},
     "output_type": "execute_result"
    }
   ],
   "source": [
    "\n",
    "# Check how index is set for the series object\n",
    "ser.index"
   ]
  },
  {
   "cell_type": "code",
   "execution_count": 6,
   "id": "50aa4f39-2255-469c-8c9e-2a7e9c05e053",
   "metadata": {},
   "outputs": [
    {
     "data": {
      "text/plain": [
       "array([16.77    , 17.1     , 17.059999, 16.9     , 16.969999, 16.24    ,\n",
       "       16.389999, 16.549999, 15.99    , 15.77    , 16.389999, 16.33    ,\n",
       "       16.34    , 16.24    , 16.469999, 16.790001, 17.1     , 17.299999,\n",
       "       16.299999, 16.459999])"
      ]
     },
     "execution_count": 6,
     "metadata": {},
     "output_type": "execute_result"
    }
   ],
   "source": [
    "ser.values"
   ]
  },
  {
   "cell_type": "code",
   "execution_count": 7,
   "id": "a67a8b34-750f-45d6-8c7b-b58166043d94",
   "metadata": {},
   "outputs": [
    {
     "data": {
      "text/plain": [
       "dtype('float64')"
      ]
     },
     "execution_count": 7,
     "metadata": {},
     "output_type": "execute_result"
    }
   ],
   "source": [
    "ser.dtype"
   ]
  },
  {
   "cell_type": "code",
   "execution_count": 9,
   "id": "4383a74d-7c6a-4f74-915d-76897693c012",
   "metadata": {},
   "outputs": [
    {
     "data": {
      "text/plain": [
       "1"
      ]
     },
     "execution_count": 9,
     "metadata": {},
     "output_type": "execute_result"
    }
   ],
   "source": [
    "# How many dimensions are there\n",
    "ser.ndim"
   ]
  },
  {
   "cell_type": "code",
   "execution_count": 10,
   "id": "6b8432b9-dc06-4ac0-b41b-b07b25c101c8",
   "metadata": {},
   "outputs": [
    {
     "data": {
      "text/plain": [
       "20"
      ]
     },
     "execution_count": 10,
     "metadata": {},
     "output_type": "execute_result"
    }
   ],
   "source": [
    "ser.size"
   ]
  },
  {
   "cell_type": "code",
   "execution_count": 38,
   "id": "61897b62-325a-40ab-99a0-4374ba19e98c",
   "metadata": {},
   "outputs": [
    {
     "data": {
      "text/plain": [
       "False"
      ]
     },
     "execution_count": 38,
     "metadata": {},
     "output_type": "execute_result"
    }
   ],
   "source": [
    "ser.is_unique"
   ]
  },
  {
   "cell_type": "code",
   "execution_count": 39,
   "id": "ec31b131-91c2-40bf-8ad8-2cd7a083e81e",
   "metadata": {},
   "outputs": [
    {
     "data": {
      "text/plain": [
       "(20,)"
      ]
     },
     "execution_count": 39,
     "metadata": {},
     "output_type": "execute_result"
    }
   ],
   "source": [
    "ser.shape"
   ]
  },
  {
   "cell_type": "markdown",
   "id": "9eca8815-e6a1-4d49-969f-501faf2e4a0d",
   "metadata": {},
   "source": [
    "# Below are some of the methods assigned to series object"
   ]
  },
  {
   "cell_type": "code",
   "execution_count": 15,
   "id": "c21f4734-6103-483f-bf7d-263eb7270a47",
   "metadata": {},
   "outputs": [
    {
     "data": {
      "text/plain": [
       "Panda0     16.770000\n",
       "Panda1     17.100000\n",
       "Panda2     17.059999\n",
       "Panda3     16.900000\n",
       "Panda4     16.969999\n",
       "Panda5     16.240000\n",
       "Panda6     16.389999\n",
       "Panda7     16.549999\n",
       "Panda8     15.990000\n",
       "Panda9     15.770000\n",
       "Panda10    16.389999\n",
       "Panda11    16.330000\n",
       "Panda12    16.340000\n",
       "Panda13    16.240000\n",
       "Panda14    16.469999\n",
       "Panda15    16.790001\n",
       "Panda16    17.100000\n",
       "Panda17    17.299999\n",
       "Panda18    16.299999\n",
       "Panda19    16.459999\n",
       "Name: Open, dtype: float64"
      ]
     },
     "execution_count": 15,
     "metadata": {},
     "output_type": "execute_result"
    }
   ],
   "source": [
    "ser.add_prefix('Panda_')"
   ]
  },
  {
   "cell_type": "code",
   "execution_count": 16,
   "id": "83a4bc70-2bf1-47cb-9f8e-3c1367c87c5a",
   "metadata": {},
   "outputs": [
    {
     "data": {
      "text/plain": [
       "0_Panda     16.770000\n",
       "1_Panda     17.100000\n",
       "2_Panda     17.059999\n",
       "3_Panda     16.900000\n",
       "4_Panda     16.969999\n",
       "5_Panda     16.240000\n",
       "6_Panda     16.389999\n",
       "7_Panda     16.549999\n",
       "8_Panda     15.990000\n",
       "9_Panda     15.770000\n",
       "10_Panda    16.389999\n",
       "11_Panda    16.330000\n",
       "12_Panda    16.340000\n",
       "13_Panda    16.240000\n",
       "14_Panda    16.469999\n",
       "15_Panda    16.790001\n",
       "16_Panda    17.100000\n",
       "17_Panda    17.299999\n",
       "18_Panda    16.299999\n",
       "19_Panda    16.459999\n",
       "Name: Open, dtype: float64"
      ]
     },
     "execution_count": 16,
     "metadata": {},
     "output_type": "execute_result"
    }
   ],
   "source": [
    "ser.add_suffix('_Panda')"
   ]
  },
  {
   "cell_type": "code",
   "execution_count": 18,
   "id": "4306ab2c-8c54-4618-bb02-41daee4867a7",
   "metadata": {},
   "outputs": [
    {
     "data": {
      "text/plain": [
       "331.45999200000006"
      ]
     },
     "execution_count": 18,
     "metadata": {},
     "output_type": "execute_result"
    }
   ],
   "source": [
    "ser.sum()"
   ]
  },
  {
   "cell_type": "code",
   "execution_count": 20,
   "id": "5b9baadf-0eef-4a20-b803-d934dd8ebbf6",
   "metadata": {},
   "outputs": [
    {
     "data": {
      "text/plain": [
       "17"
      ]
     },
     "execution_count": 20,
     "metadata": {},
     "output_type": "execute_result"
    }
   ],
   "source": [
    "# Which index position has maximum value in the series\n",
    "ser.idxmax()"
   ]
  },
  {
   "cell_type": "code",
   "execution_count": 21,
   "id": "2e8c6a6e-e939-4a88-a51f-11c727819f65",
   "metadata": {},
   "outputs": [
    {
     "data": {
      "text/plain": [
       "17.299999"
      ]
     },
     "execution_count": 21,
     "metadata": {},
     "output_type": "execute_result"
    }
   ],
   "source": [
    "# Which is max value of series\n",
    "ser.max()"
   ]
  },
  {
   "cell_type": "code",
   "execution_count": 22,
   "id": "ca8162f4-d960-4a9c-bd5d-5837f8e6e7a0",
   "metadata": {},
   "outputs": [
    {
     "data": {
      "text/plain": [
       "9"
      ]
     },
     "execution_count": 22,
     "metadata": {},
     "output_type": "execute_result"
    }
   ],
   "source": [
    "ser.idxmin()"
   ]
  },
  {
   "cell_type": "code",
   "execution_count": 23,
   "id": "22d587f2-a74a-43c4-807b-731544910bc9",
   "metadata": {},
   "outputs": [
    {
     "data": {
      "text/plain": [
       "15.77"
      ]
     },
     "execution_count": 23,
     "metadata": {},
     "output_type": "execute_result"
    }
   ],
   "source": [
    "ser.min()"
   ]
  },
  {
   "cell_type": "code",
   "execution_count": 28,
   "id": "f5b9d337-02f8-43ef-99d8-ce6fcdeb7ce0",
   "metadata": {},
   "outputs": [],
   "source": [
    "s = ser.head()"
   ]
  },
  {
   "cell_type": "code",
   "execution_count": 29,
   "id": "bd03a78c-ee82-4f3f-bc54-025817331613",
   "metadata": {},
   "outputs": [
    {
     "data": {
      "text/plain": [
       "0    16.770000\n",
       "1    17.100000\n",
       "2    17.059999\n",
       "3    16.900000\n",
       "4    16.969999\n",
       "Name: Open, dtype: float64"
      ]
     },
     "execution_count": 29,
     "metadata": {},
     "output_type": "execute_result"
    }
   ],
   "source": [
    "s"
   ]
  },
  {
   "cell_type": "code",
   "execution_count": 31,
   "id": "73f30c72-7803-4dae-9c0f-d65e31e9debc",
   "metadata": {},
   "outputs": [
    {
     "data": {
      "text/plain": [
       "15    16.790001\n",
       "16    17.100000\n",
       "17    17.299999\n",
       "18    16.299999\n",
       "19    16.459999\n",
       "Name: Open, dtype: float64"
      ]
     },
     "execution_count": 31,
     "metadata": {},
     "output_type": "execute_result"
    }
   ],
   "source": [
    "ser.tail()"
   ]
  },
  {
   "cell_type": "code",
   "execution_count": 32,
   "id": "62a33976-eaba-457e-afac-a00cdf004357",
   "metadata": {},
   "outputs": [
    {
     "data": {
      "text/plain": [
       "0    16.770000\n",
       "1    17.100000\n",
       "2    17.059999\n",
       "3    16.900000\n",
       "4    16.969999\n",
       "5    16.240000\n",
       "6    16.389999\n",
       "7    16.549999\n",
       "8    15.990000\n",
       "9    15.770000\n",
       "Name: Open, dtype: float64"
      ]
     },
     "execution_count": 32,
     "metadata": {},
     "output_type": "execute_result"
    }
   ],
   "source": [
    "ser.head(10)"
   ]
  },
  {
   "cell_type": "code",
   "execution_count": 33,
   "id": "b3621bbb-c0bd-4815-99be-413270b41943",
   "metadata": {},
   "outputs": [
    {
     "data": {
      "text/plain": [
       "16.572999600000006"
      ]
     },
     "execution_count": 33,
     "metadata": {},
     "output_type": "execute_result"
    }
   ],
   "source": [
    "ser.mean()"
   ]
  },
  {
   "cell_type": "code",
   "execution_count": 34,
   "id": "49a1b43f-b06d-4b54-aa0a-f971395a87e6",
   "metadata": {},
   "outputs": [
    {
     "data": {
      "text/plain": [
       "2.4295555370482475e+24"
      ]
     },
     "execution_count": 34,
     "metadata": {},
     "output_type": "execute_result"
    }
   ],
   "source": [
    "# Multiple all\n",
    "ser.product()"
   ]
  },
  {
   "cell_type": "code",
   "execution_count": 35,
   "id": "fd3f8173-5e2d-415d-a8a4-4c479e6b623f",
   "metadata": {},
   "outputs": [
    {
     "data": {
      "text/plain": [
       "0.4076130110008762"
      ]
     },
     "execution_count": 35,
     "metadata": {},
     "output_type": "execute_result"
    }
   ],
   "source": [
    "# standard deviation\n",
    "ser.std()"
   ]
  },
  {
   "cell_type": "code",
   "execution_count": 40,
   "id": "cd7b5785-8377-4ed3-9105-a9ee8a97bab8",
   "metadata": {},
   "outputs": [
    {
     "data": {
      "text/plain": [
       "count    20.000000\n",
       "mean     16.573000\n",
       "std       0.407613\n",
       "min      15.770000\n",
       "25%      16.322500\n",
       "50%      16.464999\n",
       "75%      16.917500\n",
       "max      17.299999\n",
       "Name: Open, dtype: float64"
      ]
     },
     "execution_count": 40,
     "metadata": {},
     "output_type": "execute_result"
    }
   ],
   "source": [
    "# Provided int or float, performs statistical values\n",
    "ser.describe()"
   ]
  }
 ],
 "metadata": {
  "kernelspec": {
   "display_name": "Python 3",
   "language": "python",
   "name": "python3"
  },
  "language_info": {
   "codemirror_mode": {
    "name": "ipython",
    "version": 3
   },
   "file_extension": ".py",
   "mimetype": "text/x-python",
   "name": "python",
   "nbconvert_exporter": "python",
   "pygments_lexer": "ipython3",
   "version": "3.8.8"
  }
 },
 "nbformat": 4,
 "nbformat_minor": 5
}
