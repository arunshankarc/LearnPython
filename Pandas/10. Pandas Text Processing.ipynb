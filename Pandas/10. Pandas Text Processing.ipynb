{
 "cells": [
  {
   "cell_type": "code",
   "execution_count": 1,
   "id": "44b96908-6323-497b-9b46-539628044176",
   "metadata": {},
   "outputs": [],
   "source": [
    "import pandas as pd"
   ]
  },
  {
   "cell_type": "code",
   "execution_count": 8,
   "id": "57bd23ce-2647-4828-bf7d-6925f0117e22",
   "metadata": {},
   "outputs": [],
   "source": [
    "df = pd.read_csv('C:/Personel/LearnPython/code/SMSSpamCollection',sep='\\t', header=None, names=['status', 'message'])"
   ]
  },
  {
   "cell_type": "code",
   "execution_count": 10,
   "id": "80981e8d-a12f-46a9-bbb0-5a1c35385b3f",
   "metadata": {},
   "outputs": [
    {
     "data": {
      "text/html": [
       "<div>\n",
       "<style scoped>\n",
       "    .dataframe tbody tr th:only-of-type {\n",
       "        vertical-align: middle;\n",
       "    }\n",
       "\n",
       "    .dataframe tbody tr th {\n",
       "        vertical-align: top;\n",
       "    }\n",
       "\n",
       "    .dataframe thead th {\n",
       "        text-align: right;\n",
       "    }\n",
       "</style>\n",
       "<table border=\"1\" class=\"dataframe\">\n",
       "  <thead>\n",
       "    <tr style=\"text-align: right;\">\n",
       "      <th></th>\n",
       "      <th>status</th>\n",
       "      <th>message</th>\n",
       "    </tr>\n",
       "  </thead>\n",
       "  <tbody>\n",
       "    <tr>\n",
       "      <th>0</th>\n",
       "      <td>ham</td>\n",
       "      <td>Go until jurong point, crazy.. Available only ...</td>\n",
       "    </tr>\n",
       "    <tr>\n",
       "      <th>1</th>\n",
       "      <td>ham</td>\n",
       "      <td>Ok lar... Joking wif u oni...</td>\n",
       "    </tr>\n",
       "    <tr>\n",
       "      <th>2</th>\n",
       "      <td>spam</td>\n",
       "      <td>Free entry in 2 a wkly comp to win FA Cup fina...</td>\n",
       "    </tr>\n",
       "    <tr>\n",
       "      <th>3</th>\n",
       "      <td>ham</td>\n",
       "      <td>U dun say so early hor... U c already then say...</td>\n",
       "    </tr>\n",
       "    <tr>\n",
       "      <th>4</th>\n",
       "      <td>ham</td>\n",
       "      <td>Nah I don't think he goes to usf, he lives aro...</td>\n",
       "    </tr>\n",
       "  </tbody>\n",
       "</table>\n",
       "</div>"
      ],
      "text/plain": [
       "  status                                            message\n",
       "0    ham  Go until jurong point, crazy.. Available only ...\n",
       "1    ham                      Ok lar... Joking wif u oni...\n",
       "2   spam  Free entry in 2 a wkly comp to win FA Cup fina...\n",
       "3    ham  U dun say so early hor... U c already then say...\n",
       "4    ham  Nah I don't think he goes to usf, he lives aro..."
      ]
     },
     "execution_count": 10,
     "metadata": {},
     "output_type": "execute_result"
    }
   ],
   "source": [
    "df.head()"
   ]
  },
  {
   "cell_type": "markdown",
   "id": "a59294c6-22ef-4116-880a-764f87890963",
   "metadata": {},
   "source": [
    "# Upper, Lower, Title, len"
   ]
  },
  {
   "cell_type": "code",
   "execution_count": 14,
   "id": "bb8b4037-34fd-4047-a0cd-211501231c65",
   "metadata": {},
   "outputs": [
    {
     "data": {
      "text/plain": [
       "0        HAM\n",
       "1        HAM\n",
       "2       SPAM\n",
       "3        HAM\n",
       "4        HAM\n",
       "        ... \n",
       "5567    SPAM\n",
       "5568     HAM\n",
       "5569     HAM\n",
       "5570     HAM\n",
       "5571     HAM\n",
       "Name: status, Length: 5572, dtype: object"
      ]
     },
     "execution_count": 14,
     "metadata": {},
     "output_type": "execute_result"
    }
   ],
   "source": [
    "df['status'].str.upper() # First convert the object to StringMethods object and then apply methods"
   ]
  },
  {
   "cell_type": "code",
   "execution_count": 15,
   "id": "0ffee8da-af46-44ae-883d-41c74fc47383",
   "metadata": {},
   "outputs": [
    {
     "data": {
      "text/plain": [
       "0       GO UNTIL JURONG POINT, CRAZY.. AVAILABLE ONLY ...\n",
       "1                           OK LAR... JOKING WIF U ONI...\n",
       "2       FREE ENTRY IN 2 A WKLY COMP TO WIN FA CUP FINA...\n",
       "3       U DUN SAY SO EARLY HOR... U C ALREADY THEN SAY...\n",
       "4       NAH I DON'T THINK HE GOES TO USF, HE LIVES ARO...\n",
       "                              ...                        \n",
       "5567    THIS IS THE 2ND TIME WE HAVE TRIED 2 CONTACT U...\n",
       "5568                 WILL Ü B GOING TO ESPLANADE FR HOME?\n",
       "5569    PITY, * WAS IN MOOD FOR THAT. SO...ANY OTHER S...\n",
       "5570    THE GUY DID SOME BITCHING BUT I ACTED LIKE I'D...\n",
       "5571                           ROFL. ITS TRUE TO ITS NAME\n",
       "Name: message, Length: 5572, dtype: object"
      ]
     },
     "execution_count": 15,
     "metadata": {},
     "output_type": "execute_result"
    }
   ],
   "source": [
    "df['message'].str.upper() # First convert the object to StringMethods object and then apply methods"
   ]
  },
  {
   "cell_type": "code",
   "execution_count": 18,
   "id": "ef501ef6-422f-4b96-a6b0-4921168d2352",
   "metadata": {},
   "outputs": [
    {
     "data": {
      "text/plain": [
       "0        ham\n",
       "1        ham\n",
       "2       spam\n",
       "3        ham\n",
       "4        ham\n",
       "        ... \n",
       "5567    spam\n",
       "5568     ham\n",
       "5569     ham\n",
       "5570     ham\n",
       "5571     ham\n",
       "Name: status, Length: 5572, dtype: object"
      ]
     },
     "execution_count": 18,
     "metadata": {},
     "output_type": "execute_result"
    }
   ],
   "source": [
    "df['status'].str.upper().str.lower() # First convert the object to StringMethods object and then apply methods"
   ]
  },
  {
   "cell_type": "code",
   "execution_count": 19,
   "id": "4ff23bb0-3086-4dcb-9945-e190f2d36659",
   "metadata": {},
   "outputs": [
    {
     "data": {
      "text/plain": [
       "0        Ham\n",
       "1        Ham\n",
       "2       Spam\n",
       "3        Ham\n",
       "4        Ham\n",
       "        ... \n",
       "5567    Spam\n",
       "5568     Ham\n",
       "5569     Ham\n",
       "5570     Ham\n",
       "5571     Ham\n",
       "Name: status, Length: 5572, dtype: object"
      ]
     },
     "execution_count": 19,
     "metadata": {},
     "output_type": "execute_result"
    }
   ],
   "source": [
    "df['status'].str.title() # first character is upper case"
   ]
  },
  {
   "cell_type": "code",
   "execution_count": 20,
   "id": "7259f73e-4147-4f14-b376-919917877f96",
   "metadata": {},
   "outputs": [
    {
     "data": {
      "text/plain": [
       "0       3\n",
       "1       3\n",
       "2       4\n",
       "3       3\n",
       "4       3\n",
       "       ..\n",
       "5567    4\n",
       "5568    3\n",
       "5569    3\n",
       "5570    3\n",
       "5571    3\n",
       "Name: status, Length: 5572, dtype: int64"
      ]
     },
     "execution_count": 20,
     "metadata": {},
     "output_type": "execute_result"
    }
   ],
   "source": [
    "df['status'].str.len() # First convert the object to StringMethods object and then apply methods"
   ]
  },
  {
   "cell_type": "code",
   "execution_count": 26,
   "id": "94467ecf-a61a-4166-9a0e-0682c148132f",
   "metadata": {},
   "outputs": [
    {
     "data": {
      "text/plain": [
       "111"
      ]
     },
     "execution_count": 26,
     "metadata": {},
     "output_type": "execute_result"
    }
   ],
   "source": [
    "len(df['message'].iloc[0])"
   ]
  },
  {
   "cell_type": "code",
   "execution_count": 27,
   "id": "729d263c-ac44-4bba-808b-a5427e3a78a7",
   "metadata": {},
   "outputs": [
    {
     "data": {
      "text/html": [
       "<div>\n",
       "<style scoped>\n",
       "    .dataframe tbody tr th:only-of-type {\n",
       "        vertical-align: middle;\n",
       "    }\n",
       "\n",
       "    .dataframe tbody tr th {\n",
       "        vertical-align: top;\n",
       "    }\n",
       "\n",
       "    .dataframe thead th {\n",
       "        text-align: right;\n",
       "    }\n",
       "</style>\n",
       "<table border=\"1\" class=\"dataframe\">\n",
       "  <thead>\n",
       "    <tr style=\"text-align: right;\">\n",
       "      <th></th>\n",
       "      <th>status</th>\n",
       "      <th>message</th>\n",
       "    </tr>\n",
       "  </thead>\n",
       "  <tbody>\n",
       "    <tr>\n",
       "      <th>4838</th>\n",
       "      <td>ham</td>\n",
       "      <td>....photoshop makes my computer shut down.</td>\n",
       "    </tr>\n",
       "    <tr>\n",
       "      <th>5408</th>\n",
       "      <td>ham</td>\n",
       "      <td>... Are you in the pub?</td>\n",
       "    </tr>\n",
       "  </tbody>\n",
       "</table>\n",
       "</div>"
      ],
      "text/plain": [
       "     status                                     message\n",
       "4838    ham  ....photoshop makes my computer shut down.\n",
       "5408    ham                     ... Are you in the pub?"
      ]
     },
     "execution_count": 27,
     "metadata": {},
     "output_type": "execute_result"
    }
   ],
   "source": [
    "df[df['message'].str.startswith('..')]  # First convert the object to StringMethods object and then apply methods"
   ]
  },
  {
   "cell_type": "markdown",
   "id": "2a49966d-2507-4093-9450-a0e5ec5992d9",
   "metadata": {},
   "source": [
    "# Replace - normal string replace"
   ]
  },
  {
   "cell_type": "code",
   "execution_count": 28,
   "id": "4742d716-366c-4650-a3c8-f03d7c47b063",
   "metadata": {},
   "outputs": [
    {
     "data": {
      "text/plain": [
       "'U dun say  early hor... U c already  say...'"
      ]
     },
     "execution_count": 28,
     "metadata": {},
     "output_type": "execute_result"
    }
   ],
   "source": [
    "df['message'][3].replace('so','').replace('then', '')"
   ]
  },
  {
   "cell_type": "code",
   "execution_count": 29,
   "id": "be082f7c-4613-45fe-b11c-1f103576dc20",
   "metadata": {},
   "outputs": [
    {
     "data": {
      "text/plain": [
       "'and  picking them up from various points'"
      ]
     },
     "execution_count": 29,
     "metadata": {},
     "output_type": "execute_result"
    }
   ],
   "source": [
    "df['message'][2766].strip()"
   ]
  },
  {
   "cell_type": "code",
   "execution_count": 31,
   "id": "cbb43fe8-4f6b-40bd-a46e-cfb48a05c259",
   "metadata": {},
   "outputs": [
    {
     "name": "stdout",
     "output_type": "stream",
     "text": [
      "[2, 3, (3, 2)]\n"
     ]
    }
   ],
   "source": [
    "tuples = [2,3,(2,3)]\n",
    "tuples[2] = (3,2)\n",
    "print(tuples)"
   ]
  },
  {
   "cell_type": "code",
   "execution_count": 32,
   "id": "01beb80c-4d34-41d3-a4d8-6642e15a3af5",
   "metadata": {},
   "outputs": [
    {
     "data": {
      "text/plain": [
       "1.0"
      ]
     },
     "execution_count": 32,
     "metadata": {},
     "output_type": "execute_result"
    }
   ],
   "source": [
    "3 * 1/3  # + 3"
   ]
  },
  {
   "cell_type": "code",
   "execution_count": 35,
   "id": "67cbce63-5d3e-40da-a722-688376155051",
   "metadata": {},
   "outputs": [
    {
     "name": "stdout",
     "output_type": "stream",
     "text": [
      "2\n",
      "2\n",
      "2\n"
     ]
    }
   ],
   "source": [
    "print(2 or 5)\n",
    "print(2 or 4)\n",
    "print(2 or 2)"
   ]
  },
  {
   "cell_type": "code",
   "execution_count": 36,
   "id": "fcf45e73-0faf-4d9a-934d-bef151f91afc",
   "metadata": {},
   "outputs": [
    {
     "name": "stdout",
     "output_type": "stream",
     "text": [
      "False\n"
     ]
    }
   ],
   "source": [
    "print(not(\"0\"))"
   ]
  },
  {
   "cell_type": "code",
   "execution_count": 37,
   "id": "85eb1673-89ac-4489-8ebe-73ed384b0492",
   "metadata": {},
   "outputs": [
    {
     "name": "stdout",
     "output_type": "stream",
     "text": [
      "\n",
      "*\n",
      "**\n",
      "***\n",
      "****\n"
     ]
    }
   ],
   "source": [
    "for i in range(5):\n",
    "     print('*'* i)"
   ]
  },
  {
   "cell_type": "code",
   "execution_count": null,
   "id": "f3c119fe-5ae7-4324-8159-5d88f618f44a",
   "metadata": {},
   "outputs": [],
   "source": []
  }
 ],
 "metadata": {
  "kernelspec": {
   "display_name": "Python 3",
   "language": "python",
   "name": "python3"
  },
  "language_info": {
   "codemirror_mode": {
    "name": "ipython",
    "version": 3
   },
   "file_extension": ".py",
   "mimetype": "text/x-python",
   "name": "python",
   "nbconvert_exporter": "python",
   "pygments_lexer": "ipython3",
   "version": "3.8.8"
  }
 },
 "nbformat": 4,
 "nbformat_minor": 5
}
