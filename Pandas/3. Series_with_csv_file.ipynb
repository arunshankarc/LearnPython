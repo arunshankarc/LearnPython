{
 "cells": [
  {
   "cell_type": "code",
   "execution_count": 5,
   "id": "f7d83c0b-4463-4dc5-9110-f9e963f7317e",
   "metadata": {},
   "outputs": [
    {
     "data": {
      "text/html": [
       "<div>\n",
       "<style scoped>\n",
       "    .dataframe tbody tr th:only-of-type {\n",
       "        vertical-align: middle;\n",
       "    }\n",
       "\n",
       "    .dataframe tbody tr th {\n",
       "        vertical-align: top;\n",
       "    }\n",
       "\n",
       "    .dataframe thead th {\n",
       "        text-align: right;\n",
       "    }\n",
       "</style>\n",
       "<table border=\"1\" class=\"dataframe\">\n",
       "  <thead>\n",
       "    <tr style=\"text-align: right;\">\n",
       "      <th></th>\n",
       "      <th>67.72003252</th>\n",
       "    </tr>\n",
       "  </thead>\n",
       "  <tbody>\n",
       "    <tr>\n",
       "      <th>0</th>\n",
       "      <td>6.217307</td>\n",
       "    </tr>\n",
       "    <tr>\n",
       "      <th>1</th>\n",
       "      <td>37.743532</td>\n",
       "    </tr>\n",
       "    <tr>\n",
       "      <th>2</th>\n",
       "      <td>37.556650</td>\n",
       "    </tr>\n",
       "    <tr>\n",
       "      <th>3</th>\n",
       "      <td>32.792233</td>\n",
       "    </tr>\n",
       "    <tr>\n",
       "      <th>4</th>\n",
       "      <td>51.034497</td>\n",
       "    </tr>\n",
       "    <tr>\n",
       "      <th>5</th>\n",
       "      <td>57.462068</td>\n",
       "    </tr>\n",
       "    <tr>\n",
       "      <th>6</th>\n",
       "      <td>9.021376</td>\n",
       "    </tr>\n",
       "    <tr>\n",
       "      <th>7</th>\n",
       "      <td>93.856161</td>\n",
       "    </tr>\n",
       "    <tr>\n",
       "      <th>8</th>\n",
       "      <td>95.177522</td>\n",
       "    </tr>\n",
       "  </tbody>\n",
       "</table>\n",
       "</div>"
      ],
      "text/plain": [
       "   67.72003252\n",
       "0     6.217307\n",
       "1    37.743532\n",
       "2    37.556650\n",
       "3    32.792233\n",
       "4    51.034497\n",
       "5    57.462068\n",
       "6     9.021376\n",
       "7    93.856161\n",
       "8    95.177522"
      ]
     },
     "execution_count": 5,
     "metadata": {},
     "output_type": "execute_result"
    }
   ],
   "source": [
    "import pandas as pd\n",
    "pd.read_csv('C:/Personel/LearnPython/code/random1.csv')"
   ]
  },
  {
   "cell_type": "code",
   "execution_count": 4,
   "id": "4cf8a7ba-185f-4d11-9573-da4deae5944e",
   "metadata": {},
   "outputs": [
    {
     "data": {
      "text/plain": [
       "pandas.core.frame.DataFrame"
      ]
     },
     "execution_count": 4,
     "metadata": {},
     "output_type": "execute_result"
    }
   ],
   "source": [
    "type(pd.read_csv('C:/Personel/LearnPython/code/random1.csv')) # Not a series datatype"
   ]
  },
  {
   "cell_type": "code",
   "execution_count": 6,
   "id": "09c16016-47ba-445b-acad-20eb724ec054",
   "metadata": {},
   "outputs": [
    {
     "data": {
      "text/plain": [
       "0    67.720033\n",
       "1     6.217307\n",
       "2    37.743532\n",
       "3    37.556650\n",
       "4    32.792233\n",
       "5    51.034497\n",
       "6    57.462068\n",
       "7     9.021376\n",
       "8    93.856161\n",
       "9    95.177522\n",
       "Name: 0, dtype: float64"
      ]
     },
     "execution_count": 6,
     "metadata": {},
     "output_type": "execute_result"
    }
   ],
   "source": [
    "pd.read_csv('C:/Personel/LearnPython/code/random1.csv', header=None, squeeze=True) # convert to series with squeeze"
   ]
  },
  {
   "cell_type": "code",
   "execution_count": 25,
   "id": "4fc26adc-f3b1-4731-93ee-8d9748894d9c",
   "metadata": {},
   "outputs": [
    {
     "data": {
      "text/plain": [
       "0    67.720033\n",
       "1     6.217307\n",
       "2    37.743532\n",
       "3    37.556650\n",
       "4    32.792233\n",
       "5    51.034497\n",
       "6    57.462068\n",
       "7     9.021376\n",
       "8    93.856161\n",
       "9    95.177522\n",
       "Name: 0, dtype: float64"
      ]
     },
     "execution_count": 25,
     "metadata": {},
     "output_type": "execute_result"
    }
   ],
   "source": [
    "pd.read_csv('C:/Personel/LearnPython/code/random1.csv', header=None, squeeze=True) # convert to series with squeeze"
   ]
  },
  {
   "cell_type": "code",
   "execution_count": 30,
   "id": "165927e9-5625-4d15-ba33-9f4ca339af8d",
   "metadata": {},
   "outputs": [],
   "source": [
    "# Read csv file with squeeze and usecols to get specific col\n",
    "ser = pd.read_csv('C:/Personel/LearnPython/code/Stock.csv', squeeze=True, usecols=['Open'])"
   ]
  },
  {
   "cell_type": "code",
   "execution_count": 31,
   "id": "4f8ad07d-1f6b-4f64-9d61-218b6837ed9c",
   "metadata": {},
   "outputs": [
    {
     "data": {
      "text/plain": [
       "pandas.core.series.Series"
      ]
     },
     "execution_count": 31,
     "metadata": {},
     "output_type": "execute_result"
    }
   ],
   "source": [
    "type(ser)"
   ]
  },
  {
   "cell_type": "code",
   "execution_count": 23,
   "id": "78868843-e70a-4b92-9604-76ef221dff4a",
   "metadata": {},
   "outputs": [
    {
     "data": {
      "text/plain": [
       "0    [1, 3, 5]\n",
       "1            3\n",
       "2            5\n",
       "dtype: object"
      ]
     },
     "execution_count": 23,
     "metadata": {},
     "output_type": "execute_result"
    }
   ],
   "source": [
    "pd.Series([[1,3,5], 3, 5])"
   ]
  },
  {
   "cell_type": "code",
   "execution_count": null,
   "id": "99fc3116-9f27-4301-9c86-b22270fac547",
   "metadata": {},
   "outputs": [],
   "source": []
  }
 ],
 "metadata": {
  "kernelspec": {
   "display_name": "Python 3",
   "language": "python",
   "name": "python3"
  },
  "language_info": {
   "codemirror_mode": {
    "name": "ipython",
    "version": 3
   },
   "file_extension": ".py",
   "mimetype": "text/x-python",
   "name": "python",
   "nbconvert_exporter": "python",
   "pygments_lexer": "ipython3",
   "version": "3.8.8"
  }
 },
 "nbformat": 4,
 "nbformat_minor": 5
}
