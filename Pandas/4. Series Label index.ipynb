{
 "cells": [
  {
   "cell_type": "markdown",
   "id": "9d44013d-bff4-4c18-a94e-4a5add53537b",
   "metadata": {},
   "source": [
    "# Label indexing"
   ]
  },
  {
   "cell_type": "code",
   "execution_count": 3,
   "id": "d51e1392-3b02-44c2-b5db-b585c0de0c57",
   "metadata": {},
   "outputs": [],
   "source": [
    "import pandas as pd \n",
    "\n",
    "temperature = [30, 31, 32, 33, 34, 32, 30, 31, 29, 33, 34, 32]\n",
    "months = [\"Jan\", \"Feb\", \"Mar\", \"Apr\", \"May\", \"Jun\", \"Jul\", \"Aug\", \"Sep\", \"Oct\", \"Nov\", \"Dec\"]"
   ]
  },
  {
   "cell_type": "code",
   "execution_count": 5,
   "id": "8cea26f0-b1d8-4502-a34b-188f278f534e",
   "metadata": {},
   "outputs": [
    {
     "data": {
      "text/plain": [
       "Jan    30\n",
       "Feb    31\n",
       "Mar    32\n",
       "Apr    33\n",
       "May    34\n",
       "Jun    32\n",
       "Jul    30\n",
       "Aug    31\n",
       "Sep    29\n",
       "Oct    33\n",
       "Nov    34\n",
       "Dec    32\n",
       "dtype: int64"
      ]
     },
     "execution_count": 5,
     "metadata": {},
     "output_type": "execute_result"
    }
   ],
   "source": [
    "# Months will be index and temperature is value\n",
    "\n",
    "pd.Series(temperature, months)"
   ]
  },
  {
   "cell_type": "code",
   "execution_count": 6,
   "id": "9a081d6e-8ced-4f92-9b56-ef77cb9a3a11",
   "metadata": {},
   "outputs": [
    {
     "data": {
      "text/plain": [
       "Jan    30\n",
       "Feb    31\n",
       "Mar    32\n",
       "Apr    33\n",
       "May    34\n",
       "Jun    32\n",
       "Jul    30\n",
       "Aug    31\n",
       "Sep    29\n",
       "Oct    33\n",
       "Nov    34\n",
       "Dec    32\n",
       "dtype: int64"
      ]
     },
     "execution_count": 6,
     "metadata": {},
     "output_type": "execute_result"
    }
   ],
   "source": [
    "pd.Series(data=temperature, index=months)"
   ]
  },
  {
   "cell_type": "code",
   "execution_count": 8,
   "id": "3379fcfb-1029-4129-ae96-7d4d1d30174d",
   "metadata": {},
   "outputs": [],
   "source": [
    "ser = pd.Series(data=temperature, index=months)"
   ]
  },
  {
   "cell_type": "code",
   "execution_count": 9,
   "id": "a9c3fd68-47d8-4724-b379-39c09924daaa",
   "metadata": {},
   "outputs": [
    {
     "data": {
      "text/plain": [
       "pandas.core.series.Series"
      ]
     },
     "execution_count": 9,
     "metadata": {},
     "output_type": "execute_result"
    }
   ],
   "source": [
    "type(ser)"
   ]
  },
  {
   "cell_type": "code",
   "execution_count": 10,
   "id": "51438dd8-464f-40a7-87ca-dc5129f0cfa4",
   "metadata": {},
   "outputs": [
    {
     "data": {
      "text/plain": [
       "Index(['Jan', 'Feb', 'Mar', 'Apr', 'May', 'Jun', 'Jul', 'Aug', 'Sep', 'Oct',\n",
       "       'Nov', 'Dec'],\n",
       "      dtype='object')"
      ]
     },
     "execution_count": 10,
     "metadata": {},
     "output_type": "execute_result"
    }
   ],
   "source": [
    "ser.index"
   ]
  }
 ],
 "metadata": {
  "kernelspec": {
   "display_name": "Python 3",
   "language": "python",
   "name": "python3"
  },
  "language_info": {
   "codemirror_mode": {
    "name": "ipython",
    "version": 3
   },
   "file_extension": ".py",
   "mimetype": "text/x-python",
   "name": "python",
   "nbconvert_exporter": "python",
   "pygments_lexer": "ipython3",
   "version": "3.8.8"
  },
  "toc-autonumbering": false,
  "toc-showmarkdowntxt": true,
  "toc-showtags": true
 },
 "nbformat": 4,
 "nbformat_minor": 5
}
